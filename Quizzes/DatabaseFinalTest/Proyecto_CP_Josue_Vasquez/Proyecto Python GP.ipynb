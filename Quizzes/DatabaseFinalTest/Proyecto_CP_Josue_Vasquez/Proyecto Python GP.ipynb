{
 "cells": [
  {
   "cell_type": "markdown",
   "id": "f7fbbbbf",
   "metadata": {},
   "source": [
    "## Proyecto CP Escuela GP\n",
    "\n",
    "   Josué Vásquez 8-997-2365 Grupo 06"
   ]
  },
  {
   "cell_type": "code",
   "execution_count": 99,
   "id": "548a5bc0",
   "metadata": {},
   "outputs": [],
   "source": [
    "import pandas as pd\n",
    "import numpy as np\n",
    "import matplotlib.pyplot as plt\n",
    "import time"
   ]
  },
  {
   "cell_type": "code",
   "execution_count": 100,
   "id": "00acf175",
   "metadata": {},
   "outputs": [],
   "source": [
    "link1 = \"Datasets/student-mat.csv\"\n",
    "link2 = \"Datasets/student-por.csv\""
   ]
  },
  {
   "cell_type": "code",
   "execution_count": 101,
   "id": "6df38c4b",
   "metadata": {
    "scrolled": false
   },
   "outputs": [
    {
     "data": {
      "text/plain": [
       "'Fecha de ejecutación: 13-01-23 hora: 09:19:03'"
      ]
     },
     "execution_count": 101,
     "metadata": {},
     "output_type": "execute_result"
    }
   ],
   "source": [
    "time.strftime('Fecha de ejecutación: %d-%m-%y hora: %I:%M:%S')"
   ]
  },
  {
   "cell_type": "code",
   "execution_count": 102,
   "id": "566c4f6a",
   "metadata": {},
   "outputs": [
    {
     "data": {
      "text/html": [
       "<div>\n",
       "<style scoped>\n",
       "    .dataframe tbody tr th:only-of-type {\n",
       "        vertical-align: middle;\n",
       "    }\n",
       "\n",
       "    .dataframe tbody tr th {\n",
       "        vertical-align: top;\n",
       "    }\n",
       "\n",
       "    .dataframe thead th {\n",
       "        text-align: right;\n",
       "    }\n",
       "</style>\n",
       "<table border=\"1\" class=\"dataframe\">\n",
       "  <thead>\n",
       "    <tr style=\"text-align: right;\">\n",
       "      <th></th>\n",
       "      <th>school</th>\n",
       "      <th>sex</th>\n",
       "      <th>age</th>\n",
       "      <th>address</th>\n",
       "      <th>Pstatus</th>\n",
       "      <th>guardian</th>\n",
       "      <th>traveltime</th>\n",
       "      <th>studytime</th>\n",
       "      <th>failures</th>\n",
       "      <th>paid</th>\n",
       "      <th>internet</th>\n",
       "      <th>health</th>\n",
       "      <th>absences</th>\n",
       "      <th>G1</th>\n",
       "      <th>G2</th>\n",
       "      <th>G3</th>\n",
       "    </tr>\n",
       "  </thead>\n",
       "  <tbody>\n",
       "    <tr>\n",
       "      <th>0</th>\n",
       "      <td>GP</td>\n",
       "      <td>F</td>\n",
       "      <td>18</td>\n",
       "      <td>U</td>\n",
       "      <td>A</td>\n",
       "      <td>mother</td>\n",
       "      <td>2</td>\n",
       "      <td>2</td>\n",
       "      <td>0</td>\n",
       "      <td>no</td>\n",
       "      <td>no</td>\n",
       "      <td>3</td>\n",
       "      <td>6</td>\n",
       "      <td>5</td>\n",
       "      <td>6</td>\n",
       "      <td>6</td>\n",
       "    </tr>\n",
       "    <tr>\n",
       "      <th>1</th>\n",
       "      <td>GP</td>\n",
       "      <td>F</td>\n",
       "      <td>17</td>\n",
       "      <td>U</td>\n",
       "      <td>T</td>\n",
       "      <td>father</td>\n",
       "      <td>1</td>\n",
       "      <td>2</td>\n",
       "      <td>0</td>\n",
       "      <td>no</td>\n",
       "      <td>yes</td>\n",
       "      <td>3</td>\n",
       "      <td>4</td>\n",
       "      <td>5</td>\n",
       "      <td>5</td>\n",
       "      <td>6</td>\n",
       "    </tr>\n",
       "    <tr>\n",
       "      <th>2</th>\n",
       "      <td>GP</td>\n",
       "      <td>F</td>\n",
       "      <td>15</td>\n",
       "      <td>U</td>\n",
       "      <td>T</td>\n",
       "      <td>mother</td>\n",
       "      <td>1</td>\n",
       "      <td>2</td>\n",
       "      <td>3</td>\n",
       "      <td>yes</td>\n",
       "      <td>yes</td>\n",
       "      <td>3</td>\n",
       "      <td>10</td>\n",
       "      <td>7</td>\n",
       "      <td>8</td>\n",
       "      <td>10</td>\n",
       "    </tr>\n",
       "    <tr>\n",
       "      <th>3</th>\n",
       "      <td>GP</td>\n",
       "      <td>F</td>\n",
       "      <td>15</td>\n",
       "      <td>U</td>\n",
       "      <td>T</td>\n",
       "      <td>mother</td>\n",
       "      <td>1</td>\n",
       "      <td>3</td>\n",
       "      <td>0</td>\n",
       "      <td>yes</td>\n",
       "      <td>yes</td>\n",
       "      <td>5</td>\n",
       "      <td>2</td>\n",
       "      <td>15</td>\n",
       "      <td>14</td>\n",
       "      <td>15</td>\n",
       "    </tr>\n",
       "    <tr>\n",
       "      <th>4</th>\n",
       "      <td>GP</td>\n",
       "      <td>F</td>\n",
       "      <td>16</td>\n",
       "      <td>U</td>\n",
       "      <td>T</td>\n",
       "      <td>father</td>\n",
       "      <td>1</td>\n",
       "      <td>2</td>\n",
       "      <td>0</td>\n",
       "      <td>yes</td>\n",
       "      <td>no</td>\n",
       "      <td>5</td>\n",
       "      <td>4</td>\n",
       "      <td>6</td>\n",
       "      <td>10</td>\n",
       "      <td>10</td>\n",
       "    </tr>\n",
       "    <tr>\n",
       "      <th>5</th>\n",
       "      <td>GP</td>\n",
       "      <td>M</td>\n",
       "      <td>16</td>\n",
       "      <td>U</td>\n",
       "      <td>T</td>\n",
       "      <td>mother</td>\n",
       "      <td>1</td>\n",
       "      <td>2</td>\n",
       "      <td>0</td>\n",
       "      <td>yes</td>\n",
       "      <td>yes</td>\n",
       "      <td>5</td>\n",
       "      <td>10</td>\n",
       "      <td>15</td>\n",
       "      <td>15</td>\n",
       "      <td>15</td>\n",
       "    </tr>\n",
       "    <tr>\n",
       "      <th>6</th>\n",
       "      <td>GP</td>\n",
       "      <td>M</td>\n",
       "      <td>16</td>\n",
       "      <td>U</td>\n",
       "      <td>T</td>\n",
       "      <td>mother</td>\n",
       "      <td>1</td>\n",
       "      <td>2</td>\n",
       "      <td>0</td>\n",
       "      <td>no</td>\n",
       "      <td>yes</td>\n",
       "      <td>3</td>\n",
       "      <td>0</td>\n",
       "      <td>12</td>\n",
       "      <td>12</td>\n",
       "      <td>11</td>\n",
       "    </tr>\n",
       "    <tr>\n",
       "      <th>7</th>\n",
       "      <td>GP</td>\n",
       "      <td>F</td>\n",
       "      <td>17</td>\n",
       "      <td>U</td>\n",
       "      <td>A</td>\n",
       "      <td>mother</td>\n",
       "      <td>2</td>\n",
       "      <td>2</td>\n",
       "      <td>0</td>\n",
       "      <td>no</td>\n",
       "      <td>no</td>\n",
       "      <td>1</td>\n",
       "      <td>6</td>\n",
       "      <td>6</td>\n",
       "      <td>5</td>\n",
       "      <td>6</td>\n",
       "    </tr>\n",
       "    <tr>\n",
       "      <th>8</th>\n",
       "      <td>GP</td>\n",
       "      <td>M</td>\n",
       "      <td>15</td>\n",
       "      <td>U</td>\n",
       "      <td>A</td>\n",
       "      <td>mother</td>\n",
       "      <td>1</td>\n",
       "      <td>2</td>\n",
       "      <td>0</td>\n",
       "      <td>yes</td>\n",
       "      <td>yes</td>\n",
       "      <td>1</td>\n",
       "      <td>0</td>\n",
       "      <td>16</td>\n",
       "      <td>18</td>\n",
       "      <td>19</td>\n",
       "    </tr>\n",
       "    <tr>\n",
       "      <th>9</th>\n",
       "      <td>GP</td>\n",
       "      <td>M</td>\n",
       "      <td>15</td>\n",
       "      <td>U</td>\n",
       "      <td>T</td>\n",
       "      <td>mother</td>\n",
       "      <td>1</td>\n",
       "      <td>2</td>\n",
       "      <td>0</td>\n",
       "      <td>yes</td>\n",
       "      <td>yes</td>\n",
       "      <td>5</td>\n",
       "      <td>0</td>\n",
       "      <td>14</td>\n",
       "      <td>15</td>\n",
       "      <td>15</td>\n",
       "    </tr>\n",
       "  </tbody>\n",
       "</table>\n",
       "</div>"
      ],
      "text/plain": [
       "  school sex  age address Pstatus guardian  traveltime  studytime  failures  \\\n",
       "0     GP   F   18       U       A   mother           2          2         0   \n",
       "1     GP   F   17       U       T   father           1          2         0   \n",
       "2     GP   F   15       U       T   mother           1          2         3   \n",
       "3     GP   F   15       U       T   mother           1          3         0   \n",
       "4     GP   F   16       U       T   father           1          2         0   \n",
       "5     GP   M   16       U       T   mother           1          2         0   \n",
       "6     GP   M   16       U       T   mother           1          2         0   \n",
       "7     GP   F   17       U       A   mother           2          2         0   \n",
       "8     GP   M   15       U       A   mother           1          2         0   \n",
       "9     GP   M   15       U       T   mother           1          2         0   \n",
       "\n",
       "  paid internet  health  absences  G1  G2  G3  \n",
       "0   no       no       3         6   5   6   6  \n",
       "1   no      yes       3         4   5   5   6  \n",
       "2  yes      yes       3        10   7   8  10  \n",
       "3  yes      yes       5         2  15  14  15  \n",
       "4  yes       no       5         4   6  10  10  \n",
       "5  yes      yes       5        10  15  15  15  \n",
       "6   no      yes       3         0  12  12  11  \n",
       "7   no       no       1         6   6   5   6  \n",
       "8  yes      yes       1         0  16  18  19  \n",
       "9  yes      yes       5         0  14  15  15  "
      ]
     },
     "execution_count": 102,
     "metadata": {},
     "output_type": "execute_result"
    }
   ],
   "source": [
    "school1 = pd.read_csv(link1, sep=';', usecols=['school', 'sex', 'age', 'address', 'Pstatus', 'guardian', 'traveltime', 'studytime', 'failures', 'paid', 'internet', 'health', 'absences', 'G1', 'G2', 'G3'])\n",
    "school1.head(10)"
   ]
  },
  {
   "cell_type": "code",
   "execution_count": 103,
   "id": "22ee917d",
   "metadata": {},
   "outputs": [
    {
     "data": {
      "text/html": [
       "<div>\n",
       "<style scoped>\n",
       "    .dataframe tbody tr th:only-of-type {\n",
       "        vertical-align: middle;\n",
       "    }\n",
       "\n",
       "    .dataframe tbody tr th {\n",
       "        vertical-align: top;\n",
       "    }\n",
       "\n",
       "    .dataframe thead th {\n",
       "        text-align: right;\n",
       "    }\n",
       "</style>\n",
       "<table border=\"1\" class=\"dataframe\">\n",
       "  <thead>\n",
       "    <tr style=\"text-align: right;\">\n",
       "      <th></th>\n",
       "      <th>school</th>\n",
       "      <th>sex</th>\n",
       "      <th>age</th>\n",
       "      <th>address</th>\n",
       "      <th>Pstatus</th>\n",
       "      <th>guardian</th>\n",
       "      <th>traveltime</th>\n",
       "      <th>studytime</th>\n",
       "      <th>failures</th>\n",
       "      <th>paid</th>\n",
       "      <th>internet</th>\n",
       "      <th>health</th>\n",
       "      <th>absences</th>\n",
       "      <th>G1</th>\n",
       "      <th>G2</th>\n",
       "      <th>G3</th>\n",
       "    </tr>\n",
       "  </thead>\n",
       "  <tbody>\n",
       "    <tr>\n",
       "      <th>0</th>\n",
       "      <td>GP</td>\n",
       "      <td>F</td>\n",
       "      <td>18</td>\n",
       "      <td>U</td>\n",
       "      <td>A</td>\n",
       "      <td>mother</td>\n",
       "      <td>2</td>\n",
       "      <td>2</td>\n",
       "      <td>0</td>\n",
       "      <td>no</td>\n",
       "      <td>no</td>\n",
       "      <td>3</td>\n",
       "      <td>4</td>\n",
       "      <td>0</td>\n",
       "      <td>11</td>\n",
       "      <td>11</td>\n",
       "    </tr>\n",
       "    <tr>\n",
       "      <th>1</th>\n",
       "      <td>GP</td>\n",
       "      <td>F</td>\n",
       "      <td>17</td>\n",
       "      <td>U</td>\n",
       "      <td>T</td>\n",
       "      <td>father</td>\n",
       "      <td>1</td>\n",
       "      <td>2</td>\n",
       "      <td>0</td>\n",
       "      <td>no</td>\n",
       "      <td>yes</td>\n",
       "      <td>3</td>\n",
       "      <td>2</td>\n",
       "      <td>9</td>\n",
       "      <td>11</td>\n",
       "      <td>11</td>\n",
       "    </tr>\n",
       "    <tr>\n",
       "      <th>2</th>\n",
       "      <td>GP</td>\n",
       "      <td>F</td>\n",
       "      <td>15</td>\n",
       "      <td>U</td>\n",
       "      <td>T</td>\n",
       "      <td>mother</td>\n",
       "      <td>1</td>\n",
       "      <td>2</td>\n",
       "      <td>0</td>\n",
       "      <td>no</td>\n",
       "      <td>yes</td>\n",
       "      <td>3</td>\n",
       "      <td>6</td>\n",
       "      <td>12</td>\n",
       "      <td>13</td>\n",
       "      <td>12</td>\n",
       "    </tr>\n",
       "    <tr>\n",
       "      <th>3</th>\n",
       "      <td>GP</td>\n",
       "      <td>F</td>\n",
       "      <td>15</td>\n",
       "      <td>U</td>\n",
       "      <td>T</td>\n",
       "      <td>mother</td>\n",
       "      <td>1</td>\n",
       "      <td>3</td>\n",
       "      <td>0</td>\n",
       "      <td>no</td>\n",
       "      <td>yes</td>\n",
       "      <td>5</td>\n",
       "      <td>0</td>\n",
       "      <td>14</td>\n",
       "      <td>14</td>\n",
       "      <td>14</td>\n",
       "    </tr>\n",
       "    <tr>\n",
       "      <th>4</th>\n",
       "      <td>GP</td>\n",
       "      <td>F</td>\n",
       "      <td>16</td>\n",
       "      <td>U</td>\n",
       "      <td>T</td>\n",
       "      <td>father</td>\n",
       "      <td>1</td>\n",
       "      <td>2</td>\n",
       "      <td>0</td>\n",
       "      <td>no</td>\n",
       "      <td>no</td>\n",
       "      <td>5</td>\n",
       "      <td>0</td>\n",
       "      <td>11</td>\n",
       "      <td>13</td>\n",
       "      <td>13</td>\n",
       "    </tr>\n",
       "    <tr>\n",
       "      <th>5</th>\n",
       "      <td>GP</td>\n",
       "      <td>M</td>\n",
       "      <td>16</td>\n",
       "      <td>U</td>\n",
       "      <td>T</td>\n",
       "      <td>mother</td>\n",
       "      <td>1</td>\n",
       "      <td>2</td>\n",
       "      <td>0</td>\n",
       "      <td>no</td>\n",
       "      <td>yes</td>\n",
       "      <td>5</td>\n",
       "      <td>6</td>\n",
       "      <td>12</td>\n",
       "      <td>12</td>\n",
       "      <td>13</td>\n",
       "    </tr>\n",
       "    <tr>\n",
       "      <th>6</th>\n",
       "      <td>GP</td>\n",
       "      <td>M</td>\n",
       "      <td>16</td>\n",
       "      <td>U</td>\n",
       "      <td>T</td>\n",
       "      <td>mother</td>\n",
       "      <td>1</td>\n",
       "      <td>2</td>\n",
       "      <td>0</td>\n",
       "      <td>no</td>\n",
       "      <td>yes</td>\n",
       "      <td>3</td>\n",
       "      <td>0</td>\n",
       "      <td>13</td>\n",
       "      <td>12</td>\n",
       "      <td>13</td>\n",
       "    </tr>\n",
       "    <tr>\n",
       "      <th>7</th>\n",
       "      <td>GP</td>\n",
       "      <td>F</td>\n",
       "      <td>17</td>\n",
       "      <td>U</td>\n",
       "      <td>A</td>\n",
       "      <td>mother</td>\n",
       "      <td>2</td>\n",
       "      <td>2</td>\n",
       "      <td>0</td>\n",
       "      <td>no</td>\n",
       "      <td>no</td>\n",
       "      <td>1</td>\n",
       "      <td>2</td>\n",
       "      <td>10</td>\n",
       "      <td>13</td>\n",
       "      <td>13</td>\n",
       "    </tr>\n",
       "    <tr>\n",
       "      <th>8</th>\n",
       "      <td>GP</td>\n",
       "      <td>M</td>\n",
       "      <td>15</td>\n",
       "      <td>U</td>\n",
       "      <td>A</td>\n",
       "      <td>mother</td>\n",
       "      <td>1</td>\n",
       "      <td>2</td>\n",
       "      <td>0</td>\n",
       "      <td>no</td>\n",
       "      <td>yes</td>\n",
       "      <td>1</td>\n",
       "      <td>0</td>\n",
       "      <td>15</td>\n",
       "      <td>16</td>\n",
       "      <td>17</td>\n",
       "    </tr>\n",
       "    <tr>\n",
       "      <th>9</th>\n",
       "      <td>GP</td>\n",
       "      <td>M</td>\n",
       "      <td>15</td>\n",
       "      <td>U</td>\n",
       "      <td>T</td>\n",
       "      <td>mother</td>\n",
       "      <td>1</td>\n",
       "      <td>2</td>\n",
       "      <td>0</td>\n",
       "      <td>no</td>\n",
       "      <td>yes</td>\n",
       "      <td>5</td>\n",
       "      <td>0</td>\n",
       "      <td>12</td>\n",
       "      <td>12</td>\n",
       "      <td>13</td>\n",
       "    </tr>\n",
       "  </tbody>\n",
       "</table>\n",
       "</div>"
      ],
      "text/plain": [
       "  school sex  age address Pstatus guardian  traveltime  studytime  failures  \\\n",
       "0     GP   F   18       U       A   mother           2          2         0   \n",
       "1     GP   F   17       U       T   father           1          2         0   \n",
       "2     GP   F   15       U       T   mother           1          2         0   \n",
       "3     GP   F   15       U       T   mother           1          3         0   \n",
       "4     GP   F   16       U       T   father           1          2         0   \n",
       "5     GP   M   16       U       T   mother           1          2         0   \n",
       "6     GP   M   16       U       T   mother           1          2         0   \n",
       "7     GP   F   17       U       A   mother           2          2         0   \n",
       "8     GP   M   15       U       A   mother           1          2         0   \n",
       "9     GP   M   15       U       T   mother           1          2         0   \n",
       "\n",
       "  paid internet  health  absences  G1  G2  G3  \n",
       "0   no       no       3         4   0  11  11  \n",
       "1   no      yes       3         2   9  11  11  \n",
       "2   no      yes       3         6  12  13  12  \n",
       "3   no      yes       5         0  14  14  14  \n",
       "4   no       no       5         0  11  13  13  \n",
       "5   no      yes       5         6  12  12  13  \n",
       "6   no      yes       3         0  13  12  13  \n",
       "7   no       no       1         2  10  13  13  \n",
       "8   no      yes       1         0  15  16  17  \n",
       "9   no      yes       5         0  12  12  13  "
      ]
     },
     "execution_count": 103,
     "metadata": {},
     "output_type": "execute_result"
    }
   ],
   "source": [
    "school2 = pd.read_csv(link2, sep=';', usecols=['school', 'sex', 'age', 'address', 'Pstatus', 'guardian', 'traveltime', 'studytime', 'failures', 'paid', 'internet', 'health', 'absences', 'G1', 'G2', 'G3'])\n",
    "school2.head(10)"
   ]
  },
  {
   "cell_type": "code",
   "execution_count": 197,
   "id": "c43e290d",
   "metadata": {},
   "outputs": [],
   "source": [
    "school1=school1[school1!='MS']\n",
    "school1=school1[school1['school'].notna()]"
   ]
  },
  {
   "cell_type": "code",
   "execution_count": 228,
   "id": "92d09013",
   "metadata": {},
   "outputs": [],
   "source": [
    "school2=school2[school2!='MS']\n",
    "school2=school2[school2['school'].notna()]"
   ]
  },
  {
   "cell_type": "code",
   "execution_count": 229,
   "id": "f52d633a",
   "metadata": {},
   "outputs": [
    {
     "data": {
      "text/plain": [
       "(349, 16)"
      ]
     },
     "execution_count": 229,
     "metadata": {},
     "output_type": "execute_result"
    }
   ],
   "source": [
    "school1.shape"
   ]
  },
  {
   "cell_type": "code",
   "execution_count": 230,
   "id": "5d6557d5",
   "metadata": {},
   "outputs": [
    {
     "data": {
      "text/plain": [
       "(423, 16)"
      ]
     },
     "execution_count": 230,
     "metadata": {},
     "output_type": "execute_result"
    }
   ],
   "source": [
    "school2.shape"
   ]
  },
  {
   "cell_type": "markdown",
   "id": "263d5bdb",
   "metadata": {},
   "source": [
    "# Escuela 1 (Matemáticas)"
   ]
  },
  {
   "cell_type": "markdown",
   "id": "bb2c2ffd",
   "metadata": {},
   "source": [
    "Gráfico circular (porcentaje de hombres y mujeres)"
   ]
  },
  {
   "cell_type": "code",
   "execution_count": 231,
   "id": "ab4a4844",
   "metadata": {},
   "outputs": [
    {
     "data": {
      "text/plain": [
       "<AxesSubplot:ylabel='sex'>"
      ]
     },
     "execution_count": 231,
     "metadata": {},
     "output_type": "execute_result"
    },
    {
     "data": {
      "image/png": "[encoded data removed]",
      "text/plain": [
       "<Figure size 1008x360 with 1 Axes>"
      ]
     },
     "metadata": {},
     "output_type": "display_data"
    }
   ],
   "source": [
    "plt.figure(figsize=(14,5))\n",
    "school1[\"sex\"].value_counts().plot(kind=\"pie\", autopct=\"%1.1f%%\")"
   ]
  },
  {
   "cell_type": "markdown",
   "id": "2e300e15",
   "metadata": {},
   "source": [
    "# Escuela 2 (portugues)"
   ]
  },
  {
   "cell_type": "markdown",
   "id": "93a88351",
   "metadata": {},
   "source": [
    "Gráfico circular (porcentaje de hombres y mujeres)"
   ]
  },
  {
   "cell_type": "code",
   "execution_count": 232,
   "id": "5d4f5970",
   "metadata": {},
   "outputs": [
    {
     "data": {
      "text/plain": [
       "<AxesSubplot:ylabel='sex'>"
      ]
     },
     "execution_count": 232,
     "metadata": {},
     "output_type": "execute_result"
    },
    {
     "data": {
      "image/png": "[encoded data removed]",
      "text/plain": [
       "<Figure size 1008x360 with 1 Axes>"
      ]
     },
     "metadata": {},
     "output_type": "display_data"
    }
   ],
   "source": [
    "plt.figure(figsize=(14,5))\n",
    "school2[\"sex\"].value_counts().plot(kind=\"pie\", autopct=\"%1.1f%%\")"
   ]
  },
  {
   "cell_type": "markdown",
   "id": "77ddac36",
   "metadata": {},
   "source": [
    "# Gráficos de edades"
   ]
  },
  {
   "cell_type": "markdown",
   "id": "48658a01",
   "metadata": {},
   "source": [
    "Curso de matemáticas"
   ]
  },
  {
   "cell_type": "code",
   "execution_count": 233,
   "id": "53b4c8b3",
   "metadata": {},
   "outputs": [
    {
     "data": {
      "text/plain": [
       "<AxesSubplot:>"
      ]
     },
     "execution_count": 233,
     "metadata": {},
     "output_type": "execute_result"
    },
    {
     "data": {
      "image/png": "[encoded data removed]",
      "text/plain": [
       "<Figure size 432x288 with 1 Axes>"
      ]
     },
     "metadata": {
      "needs_background": "light"
     },
     "output_type": "display_data"
    }
   ],
   "source": [
    "school1[\"age\"].value_counts().plot(kind=\"bar\")"
   ]
  },
  {
   "cell_type": "markdown",
   "id": "aa29db9f",
   "metadata": {},
   "source": [
    "Curso de portugués"
   ]
  },
  {
   "cell_type": "code",
   "execution_count": 234,
   "id": "5e4a7022",
   "metadata": {},
   "outputs": [
    {
     "data": {
      "text/plain": [
       "<AxesSubplot:>"
      ]
     },
     "execution_count": 234,
     "metadata": {},
     "output_type": "execute_result"
    },
    {
     "data": {
      "image/png": "[encoded data removed]",
      "text/plain": [
       "<Figure size 432x288 with 1 Axes>"
      ]
     },
     "metadata": {
      "needs_background": "light"
     },
     "output_type": "display_data"
    }
   ],
   "source": [
    "school2[\"age\"].value_counts().plot(kind=\"bar\")"
   ]
  },
  {
   "cell_type": "markdown",
   "id": "c9dc8381",
   "metadata": {},
   "source": [
    "# Promedio de edades"
   ]
  },
  {
   "cell_type": "markdown",
   "id": "4182a0a9",
   "metadata": {},
   "source": [
    "Curso de matemáticas"
   ]
  },
  {
   "cell_type": "code",
   "execution_count": 235,
   "id": "14397035",
   "metadata": {},
   "outputs": [],
   "source": [
    "prom_edad = school1[\"age\"].mean()"
   ]
  },
  {
   "cell_type": "code",
   "execution_count": 236,
   "id": "218aa501",
   "metadata": {},
   "outputs": [
    {
     "name": "stdout",
     "output_type": "stream",
     "text": [
      "16.521489971346703\n"
     ]
    }
   ],
   "source": [
    "print(prom_edad)"
   ]
  },
  {
   "cell_type": "markdown",
   "id": "ae396003",
   "metadata": {},
   "source": [
    "Curso de portugués"
   ]
  },
  {
   "cell_type": "code",
   "execution_count": 237,
   "id": "984d02b7",
   "metadata": {},
   "outputs": [],
   "source": [
    "prom_edad2 = school2[\"age\"].mean()"
   ]
  },
  {
   "cell_type": "code",
   "execution_count": 238,
   "id": "50ff6533",
   "metadata": {},
   "outputs": [
    {
     "name": "stdout",
     "output_type": "stream",
     "text": [
      "16.666666666666668\n"
     ]
    }
   ],
   "source": [
    "print(prom_edad2)"
   ]
  },
  {
   "cell_type": "markdown",
   "id": "fb38e94f",
   "metadata": {},
   "source": [
    "# Promedio de notas"
   ]
  },
  {
   "cell_type": "markdown",
   "id": "7c04064c",
   "metadata": {},
   "source": [
    "Curso de matemáticas"
   ]
  },
  {
   "cell_type": "code",
   "execution_count": 239,
   "id": "b7e153cf",
   "metadata": {},
   "outputs": [],
   "source": [
    "prom_notas_G1 = school1[\"G1\"].mean()\n",
    "prom_notas_G2 = school1[\"G2\"].mean()\n",
    "prom_notas_G3 = school1[\"G3\"].mean()"
   ]
  },
  {
   "cell_type": "code",
   "execution_count": 240,
   "id": "fcb21779",
   "metadata": {},
   "outputs": [
    {
     "name": "stdout",
     "output_type": "stream",
     "text": [
      "10.939828080229226\n"
     ]
    }
   ],
   "source": [
    "print(prom_notas_G1)"
   ]
  },
  {
   "cell_type": "code",
   "execution_count": 241,
   "id": "0bde0a3e",
   "metadata": {},
   "outputs": [
    {
     "name": "stdout",
     "output_type": "stream",
     "text": [
      "10.782234957020057\n"
     ]
    }
   ],
   "source": [
    "print(prom_notas_G2)"
   ]
  },
  {
   "cell_type": "code",
   "execution_count": 242,
   "id": "72752035",
   "metadata": {},
   "outputs": [
    {
     "name": "stdout",
     "output_type": "stream",
     "text": [
      "10.489971346704872\n"
     ]
    }
   ],
   "source": [
    "print(prom_notas_G3)"
   ]
  },
  {
   "cell_type": "markdown",
   "id": "56f8e631",
   "metadata": {},
   "source": [
    "Curso de portugués"
   ]
  },
  {
   "cell_type": "code",
   "execution_count": 243,
   "id": "6ab54413",
   "metadata": {},
   "outputs": [],
   "source": [
    "prom_notas2_G1 = school2[\"G1\"].mean()\n",
    "prom_notas2_G2 = school2[\"G2\"].mean()\n",
    "prom_notas2_G3 = school2[\"G3\"].mean()"
   ]
  },
  {
   "cell_type": "code",
   "execution_count": 244,
   "id": "7d044562",
   "metadata": {},
   "outputs": [
    {
     "name": "stdout",
     "output_type": "stream",
     "text": [
      "11.98581560283688\n"
     ]
    }
   ],
   "source": [
    "print(prom_notas2_G1)"
   ]
  },
  {
   "cell_type": "code",
   "execution_count": 245,
   "id": "ae164c87",
   "metadata": {},
   "outputs": [
    {
     "name": "stdout",
     "output_type": "stream",
     "text": [
      "12.14420803782506\n"
     ]
    }
   ],
   "source": [
    "print(prom_notas2_G2)"
   ]
  },
  {
   "cell_type": "code",
   "execution_count": 246,
   "id": "2ae3cac2",
   "metadata": {},
   "outputs": [
    {
     "name": "stdout",
     "output_type": "stream",
     "text": [
      "12.576832151300236\n"
     ]
    }
   ],
   "source": [
    "print(prom_notas2_G3)"
   ]
  },
  {
   "cell_type": "markdown",
   "id": "69664b4c",
   "metadata": {},
   "source": [
    "# Promedio de las notas en gráficos"
   ]
  },
  {
   "cell_type": "markdown",
   "id": "2ebde06a",
   "metadata": {},
   "source": [
    "Curso de matemáticas"
   ]
  },
  {
   "cell_type": "code",
   "execution_count": 247,
   "id": "d732f2c3",
   "metadata": {},
   "outputs": [
    {
     "data": {
      "text/plain": [
       "<AxesSubplot:>"
      ]
     },
     "execution_count": 247,
     "metadata": {},
     "output_type": "execute_result"
    },
    {
     "data": {
      "image/png": "[encoded data removed]",
      "text/plain": [
       "<Figure size 432x288 with 1 Axes>"
      ]
     },
     "metadata": {
      "needs_background": "light"
     },
     "output_type": "display_data"
    }
   ],
   "source": [
    "school1[\"G1\"].value_counts().plot.barh(stacked=True)"
   ]
  },
  {
   "cell_type": "code",
   "execution_count": 248,
   "id": "399f95bd",
   "metadata": {},
   "outputs": [
    {
     "data": {
      "text/plain": [
       "<AxesSubplot:>"
      ]
     },
     "execution_count": 248,
     "metadata": {},
     "output_type": "execute_result"
    },
    {
     "data": {
      "image/png": "[encoded data removed]",
      "text/plain": [
       "<Figure size 432x288 with 1 Axes>"
      ]
     },
     "metadata": {
      "needs_background": "light"
     },
     "output_type": "display_data"
    }
   ],
   "source": [
    "school1[\"G2\"].value_counts().plot.barh(stacked=True)"
   ]
  },
  {
   "cell_type": "code",
   "execution_count": 249,
   "id": "5ae51594",
   "metadata": {},
   "outputs": [
    {
     "data": {
      "text/plain": [
       "<AxesSubplot:>"
      ]
     },
     "execution_count": 249,
     "metadata": {},
     "output_type": "execute_result"
    },
    {
     "data": {
      "image/png": "[encoded data removed]",
      "text/plain": [
       "<Figure size 432x288 with 1 Axes>"
      ]
     },
     "metadata": {
      "needs_background": "light"
     },
     "output_type": "display_data"
    }
   ],
   "source": [
    "school1[\"G3\"].value_counts().plot.barh(stacked=True)"
   ]
  },
  {
   "cell_type": "markdown",
   "id": "40968ab6",
   "metadata": {},
   "source": [
    "Curso de portugués"
   ]
  },
  {
   "cell_type": "code",
   "execution_count": 250,
   "id": "7ed1ffa9",
   "metadata": {},
   "outputs": [
    {
     "data": {
      "text/plain": [
       "<AxesSubplot:>"
      ]
     },
     "execution_count": 250,
     "metadata": {},
     "output_type": "execute_result"
    },
    {
     "data": {
      "image/png": "[encoded data removed]",
      "text/plain": [
       "<Figure size 432x288 with 1 Axes>"
      ]
     },
     "metadata": {
      "needs_background": "light"
     },
     "output_type": "display_data"
    }
   ],
   "source": [
    "school2[\"G1\"].value_counts().plot.barh(stacked=True)"
   ]
  },
  {
   "cell_type": "code",
   "execution_count": 251,
   "id": "d426659a",
   "metadata": {},
   "outputs": [
    {
     "data": {
      "text/plain": [
       "<AxesSubplot:>"
      ]
     },
     "execution_count": 251,
     "metadata": {},
     "output_type": "execute_result"
    },
    {
     "data": {
      "image/png": "[encoded data removed]",
      "text/plain": [
       "<Figure size 432x288 with 1 Axes>"
      ]
     },
     "metadata": {
      "needs_background": "light"
     },
     "output_type": "display_data"
    }
   ],
   "source": [
    "school2[\"G2\"].value_counts().plot.barh(stacked=True)"
   ]
  },
  {
   "cell_type": "code",
   "execution_count": 252,
   "id": "e22fe392",
   "metadata": {},
   "outputs": [
    {
     "data": {
      "text/plain": [
       "<AxesSubplot:>"
      ]
     },
     "execution_count": 252,
     "metadata": {},
     "output_type": "execute_result"
    },
    {
     "data": {
      "image/png": "[encoded data removed]",
      "text/plain": [
       "<Figure size 432x288 with 1 Axes>"
      ]
     },
     "metadata": {
      "needs_background": "light"
     },
     "output_type": "display_data"
    }
   ],
   "source": [
    "school2[\"G3\"].value_counts().plot.barh(stacked=True)"
   ]
  },
  {
   "cell_type": "code",
   "execution_count": null,
   "id": "bed01c33",
   "metadata": {},
   "outputs": [],
   "source": []
  }
 ],
 "metadata": {
  "kernelspec": {
   "display_name": "Python 3 (ipykernel)",
   "language": "python",
   "name": "python3"
  },
  "language_info": {
   "codemirror_mode": {
    "name": "ipython",
    "version": 3
   },
   "file_extension": ".py",
   "mimetype": "text/x-python",
   "name": "python",
   "nbconvert_exporter": "python",
   "pygments_lexer": "ipython3",
   "version": "3.9.12"
  }
 },
 "nbformat": 4,
 "nbformat_minor": 5
}
